{
 "cells": [
  {
   "cell_type": "code",
   "execution_count": 199,
   "metadata": {
    "colab": {},
    "colab_type": "code",
    "id": "G8JILDxrsgPY"
   },
   "outputs": [],
   "source": [
    "import numpy as np\n",
    "import torch\n",
    "import torch.nn as nn\n",
    "import torch.nn.functional as F\n",
    "import torch.optim as optim\n",
    "from torch.utils.data import Dataset, DataLoader\n",
    "from torch.autograd import Variable\n",
    "import torchvision\n",
    "from torchvision import transforms\n",
    "# import matplotlib.pyplot as plot\n",
    "from random import shuffle\n",
    "#from google.colab import drive                IF you are using COLAB"
   ]
  },
  {
   "cell_type": "code",
   "execution_count": 2,
   "metadata": {
    "colab": {},
    "colab_type": "code",
    "id": "yKixUdldszgx"
   },
   "outputs": [],
   "source": [
    "# Use this if you are working on COLAB\n",
    "# This will prompt for authorization.\n",
    "#drive.mount('/content/drive')"
   ]
  },
  {
   "cell_type": "code",
   "execution_count": 3,
   "metadata": {
    "colab": {},
    "colab_type": "code",
    "id": "HApL-cvBs1Ah"
   },
   "outputs": [],
   "source": [
    "def extract_data(x_data_filepath, y_data_filepath):\n",
    "    X = np.load(x_data_filepath)\n",
    "    y = np.load(y_data_filepath)\n",
    "    return X, y"
   ]
  },
  {
   "cell_type": "code",
   "execution_count": 4,
   "metadata": {
    "colab": {},
    "colab_type": "code",
    "id": "k_mCkbFV1bq9"
   },
   "outputs": [],
   "source": [
    "def data_visualization(images,labels):\n",
    "    \"\"\"\n",
    "    Visualize 6 pictures per class using your prefered visulization library (matplotlib, etc)\n",
    "\n",
    "    Args:\n",
    "    images: training images in shape (num_images,3,image_H,image_W)\n",
    "    labels: training labels in shape (num_images,)\n",
    "    \"\"\"\n",
    "    img_labels = [int(x) for x in labels]\n",
    "    label0 = [x for x, label in enumerate(img_labels) if label == 0]\n",
    "    label1 = [x for x, label in enumerate(img_labels) if label == 1]\n",
    "    label2 = [x for x, label in enumerate(img_labels) if label == 2]\n",
    "    label3 = [x for x, label in enumerate(img_labels) if label == 3]\n",
    "    label4 = [x for x, label in enumerate(img_labels) if label == 4]\n",
    "\n",
    "    label_lst = [label0, label1, label2, label3, label4]\n",
    "\n",
    "    for i in range(6): #select the first 6 pics\n",
    "        for label in label_lst: #iterate over each label\n",
    "            plt.imshow(np.swapaxes(images[label[i]].T,0,1))\n",
    "            plt.show()\n",
    "\n",
    "\n",
    "    pass"
   ]
  },
  {
   "cell_type": "code",
   "execution_count": 74,
   "metadata": {
    "colab": {},
    "colab_type": "code",
    "id": "TnttiXoks2sn"
   },
   "outputs": [],
   "source": [
    "############################################################\n",
    "# Extracting and loading data\n",
    "############################################################\n",
    "class Dataset(Dataset):\n",
    "    def __init__(self, X, y):\n",
    "        self.len = len(X)           \n",
    "        if torch.cuda.is_available():\n",
    "          self.x_data = torch.from_numpy(X).float().cuda()\n",
    "          self.y_data = torch.from_numpy(y).long().cuda()\n",
    "        else:\n",
    "          self.x_data = torch.from_numpy(X).float()\n",
    "          self.y_data = torch.from_numpy(y).long()\n",
    "    \n",
    "    def __len__(self):\n",
    "        return self.len\n",
    "\n",
    "    def __getitem__(self, idx):\n",
    "        return self.x_data[idx], self.y_data[idx]"
   ]
  },
  {
   "cell_type": "code",
   "execution_count": 90,
   "metadata": {
    "colab": {},
    "colab_type": "code",
    "id": "s2LxFInms4ks"
   },
   "outputs": [],
   "source": [
    "def create_validation(x_train,y_train):\n",
    "    \"\"\"\n",
    "    Randomly choose 20 percent of the training data as validation data.\n",
    "\n",
    "    Args:\n",
    "        x_train: training images in shape (num_images,3,image_H,image_W)\n",
    "        y_train: training labels in shape (num_images,)\n",
    "    Returns:\n",
    "        new_x_train: training images in shape (0.8*num_images,3,image_H,image_W)\n",
    "        new_y_train: training labels in shape (0.8*num_images,)\n",
    "        x_val: validation images in shape (0.2*num_images,3,image_H,image_W)\n",
    "        y_val: validation labels in shape (0.2*num_images,)\n",
    "    \"\"\"\n",
    "#     dataset = Dataset(x_train, y_train)\n",
    "    #shuffle the list of indices of the dataset - prep for the split of valid and train sets\n",
    "\n",
    "    indices = list(range(len(x_train)))\n",
    "    shuffle(indices)\n",
    "    valid_size = int(np.floor(0.2 * len(x_train)))\n",
    "#     x_val = dataset.x_data[indices[:valid_size]]\n",
    "    x_val = x_train[indices[:valid_size]]    \n",
    "#     y_val = dataset.y_data[indices[:valid_size]]\n",
    "    y_val = y_train[indices[:valid_size]]\n",
    "#     new_x_train = dataset.x_data[indices[valid_size:]]\n",
    "    new_x_train = x_train[indices[valid_size:]]\n",
    "#     new_y_train = dataset.y_data[indices[valid_size:]]\n",
    "    new_y_train = y_train[indices[valid_size:]]\n",
    "    \n",
    "    return new_x_train,new_y_train,x_val,y_val"
   ]
  },
  {
   "cell_type": "code",
   "execution_count": 83,
   "metadata": {},
   "outputs": [],
   "source": [
    "# x_train, y_train = extract_data('data/images_train.npy','data/labels_train.npy')"
   ]
  },
  {
   "cell_type": "code",
   "execution_count": 95,
   "metadata": {},
   "outputs": [
    {
     "data": {
      "text/plain": [
       "(520,)"
      ]
     },
     "execution_count": 95,
     "metadata": {},
     "output_type": "execute_result"
    }
   ],
   "source": [
    "\n",
    "# #shuffle the list of indices of the dataset - prep for the split of valid and train sets\n",
    "# x_train, y_train, x_val, y_val = create_validation(images, labels)\n",
    "# y_val.shape"
   ]
  },
  {
   "cell_type": "code",
   "execution_count": 81,
   "metadata": {},
   "outputs": [
    {
     "data": {
      "text/plain": [
       "torch.Size([2081, 3, 64, 85])"
      ]
     },
     "execution_count": 81,
     "metadata": {},
     "output_type": "execute_result"
    }
   ],
   "source": [
    "# x_train.size()"
   ]
  },
  {
   "cell_type": "code",
   "execution_count": 7,
   "metadata": {
    "colab": {},
    "colab_type": "code",
    "id": "812xDSEms72t"
   },
   "outputs": [],
   "source": [
    "############################################################\n",
    "# Feed Forward Neural Network\n",
    "############################################################\n",
    "class FeedForwardNN(nn.Module):\n",
    "    \"\"\" \n",
    "        (1) Use self.fc1 as the variable name for your first fully connected layer\n",
    "        (2) Use self.fc2 as the variable name for your second fully connected layer\n",
    "    \"\"\"\n",
    "    def __init__(self):\n",
    "        super(FeedForwardNN,self).__init__()\n",
    "        self.fc1 = nn.Linear(16320,2000)\n",
    "        self.fc2 = nn.Linear(2000,5)\n",
    "        \n",
    "\n",
    "    def forward(self, x):\n",
    "        #reshape to (16320,1)\n",
    "        x_reshape = x.view(x.size(0),-1)\n",
    "        fc1_output = F.relu(self.fc1(x_reshape))\n",
    "        out = self.fc2(fc1_output)\n",
    "        return out\n",
    "\n",
    "    \"\"\" \n",
    "        Please do not change the functions below. \n",
    "        They will be used to test the correctness of your implementation \n",
    "    \"\"\"\n",
    "    def get_fc1_params(self):\n",
    "        return self.fc1.__repr__()\n",
    "    \n",
    "    def get_fc2_params(self):\n",
    "        return self.fc2.__repr__()"
   ]
  },
  {
   "cell_type": "code",
   "execution_count": 156,
   "metadata": {
    "colab": {},
    "colab_type": "code",
    "id": "0NXchxSvtEdz"
   },
   "outputs": [],
   "source": [
    "############################################################\n",
    "# Convolutional Neural Network\n",
    "############################################################\n",
    "class ConvolutionalNN(nn.Module):\n",
    "    \"\"\" \n",
    "        (1) Use self.conv1 as the variable name for your first convolutional layer\n",
    "        (2) Use self.pool1 as the variable name for your first pooling layer\n",
    "        (3) Use self.conv2 as the variable name for your second convolutional layer\n",
    "        (4) Use self.pool2 as the variable name for you second pooling layer  \n",
    "        (5) Use self.fc1 as the variable name for your first fully connected laye\n",
    "        (6) Use self.fc2 as the variable name for your second fully connected layer\n",
    "    \"\"\"\n",
    "    def __init__(self):\n",
    "        super(ConvolutionalNN, self).__init__()\n",
    "        \n",
    "        #cnn\n",
    "        self.conv1 = nn.Conv2d(3, 16, kernel_size = 3)\n",
    "        self.conv2 = nn.Conv2d(16, 32, kernel_size = 3)\n",
    "        #maxpooling 2d\n",
    "        self.pool1 = nn.MaxPool2d(kernel_size = 2)\n",
    "        self.pool2 = nn.MaxPool2d(kernel_size = 2)\n",
    "        #fully connected layer\n",
    "        self.fc1 = nn.Linear(8512, 200)\n",
    "        self.fc2 = nn.Linear(200, 5)\n",
    "        \n",
    "    def forward(self, x):\n",
    "        x_np = x.numpy()\n",
    "        x = normalize_image(x)\n",
    "        #relu + maxpool first layer\n",
    "        relu1 = F.relu(self.cnn1(x))\n",
    "        maxpooling1 = self.pool1(relu1)\n",
    "        #relu + maxpool second layer\n",
    "        relu2 = F.relu(self.cnn2(maxpooling1))\n",
    "        maxpooling2 = self.pool2(relu2)\n",
    "        #flatten image\n",
    "        reshape = maxpooling2.view(maxpooling2.size(0),-1)\n",
    "        #fully connected layer - output\n",
    "        fc1_output = F.relu(self.fc1(reshape))\n",
    "        out = self.fc2(fc1_output)\n",
    "        return out\n",
    "      \n",
    "    \"\"\" \n",
    "        Please do not change the functions below. \n",
    "        They will be used to test the correctness of your implementation\n",
    "    \"\"\"\n",
    "    \n",
    "    def get_conv1_params(self):\n",
    "        return self.conv1.__repr__()\n",
    "    \n",
    "    def get_pool1_params(self):\n",
    "        return self.pool1.__repr__()\n",
    "\n",
    "    def get_conv2_params(self):\n",
    "        return self.conv2.__repr__()\n",
    "      \n",
    "    def get_pool2_params(self):\n",
    "        return self.pool2.__repr__()\n",
    "      \n",
    "    def get_fc1_params(self):\n",
    "        return self.fc1.__repr__()\n",
    "    \n",
    "    def get_fc2_params(self):\n",
    "        return self.fc2.__repr__()"
   ]
  },
  {
   "cell_type": "code",
   "execution_count": 97,
   "metadata": {
    "colab": {},
    "colab_type": "code",
    "id": "K5hhOy6htEtC"
   },
   "outputs": [],
   "source": [
    "def normalize_image(image):\n",
    "    \"\"\"\n",
    "    Normalize each input image\n",
    "\n",
    "    Args:\n",
    "        image: the input image in shape (3,image_H,image_W)\n",
    "    Returns:\n",
    "        norimg: the normalized image in the same shape as the input\n",
    "    \"\"\"\n",
    "#     image = image.numpy()\n",
    "    \n",
    "    rbg_mean = []\n",
    "    rbg_std = []\n",
    "    for i in range(0,3):\n",
    "        mean =  np.mean(image[i,:,:])\n",
    "        std = np.std(image[i,:,:])\n",
    "        image[i,:,:] = (image[i,:,:] - mean)/std\n",
    "    \n",
    "    norimg = image\n",
    "    \n",
    "    \n",
    "\n",
    "\n",
    "    return (norimg)"
   ]
  },
  {
   "cell_type": "code",
   "execution_count": 186,
   "metadata": {
    "colab": {},
    "colab_type": "code",
    "id": "aVRyEtmQtzn2"
   },
   "outputs": [],
   "source": [
    "############################################################\n",
    "# Optimized Neural Network\n",
    "############################################################\n",
    "class OptimizedNN(nn.Module):\n",
    "    def __init__(self):\n",
    "        super(OptimizedNN, self).__init__()\n",
    "        #cnn\n",
    "        self.cnn1 = nn.Conv2d(3, 16, kernel_size = 3)\n",
    "        self.cnn2 = nn.Conv2d(16, 32, kernel_size = 3)\n",
    "        self.cnn3 = nn.Conv2d(32, 64, kernel_size = 3)\n",
    "        #maxpooling 2d\n",
    "        self.pool = nn.MaxPool2d(kernel_size = 2)\n",
    "        #fully connected layer\n",
    "        self.fc1 = nn.Linear(3072, 200)\n",
    "        self.fc2 = nn.Linear(200, 5)\n",
    "        #dropout\n",
    "        self.drop_out1 = nn.Dropout(p = 0.5)\n",
    "        self.drop_out2 = nn.Dropout(p = 0.5)\n",
    "\n",
    "        \n",
    "    def forward(self, x):\n",
    "#         x_np = x.numpy()\n",
    "#         x = normalize_image(x)\n",
    "#         print(type(x))\n",
    "#         x = torch.from_numpy(x)\n",
    "        #relu + maxpool first layer\n",
    "        relu1 = F.relu(self.cnn1(x))\n",
    "        maxpooling1 = self.pool(relu1)\n",
    "        \n",
    "        #relu + maxpool second layer\n",
    "        relu2 = F.relu(self.cnn2(maxpooling1))\n",
    "        maxpooling2 = self.pool(relu2)\n",
    "        \n",
    "        #relu + maxpool second layer\n",
    "        relu3 = F.relu(self.cnn3(maxpooling2))\n",
    "        maxpooling3 = self.pool(relu3)\n",
    "        \n",
    "        #flatten image\n",
    "        reshape = maxpooling3.view(maxpooling3.size(0),-1)\n",
    "        #fully connected layer - output\n",
    "        fc1_output = self.drop_out1(reshape)\n",
    "        fc1_output = F.relu(self.fc1(fc1_output))\n",
    "        fc2_output = self.drop_out2(fc1_output)\n",
    "        out = self.fc2(fc2_output)\n",
    "        \n",
    "        return out\n",
    "      "
   ]
  },
  {
   "cell_type": "code",
   "execution_count": 11,
   "metadata": {
    "colab": {},
    "colab_type": "code",
    "id": "nQHzqYLSt-mQ"
   },
   "outputs": [],
   "source": [
    "def train_val_NN(neural_network, train_loader, validation_loader, loss_function, optimizer,num_epochs):\n",
    "    \"\"\"\n",
    "    Runs experiment on the model neural network given a train loader, loss function and optimizer and find validation accuracy for each epoch given the validation_loader.\n",
    "\n",
    "    Args:\n",
    "        neural_network (NN model that extends torch.nn.Module): For example, it should take an instance of either\n",
    "                                                                FeedForwardNN or ConvolutionalNN,\n",
    "        train_loader (DataLoader),\n",
    "        validation_loader (DataLoader),\n",
    "        loss_function (torch.nn.CrossEntropyLoss),\n",
    "        optimizer (optim.SGD)\n",
    "        num_epochs (number of iterations)\n",
    "    Returns:\n",
    "        tuple: First position, training accuracies of each epoch formatted in an array of shape (num_epochs,1).\n",
    "               Second position, training loss of each epoch formatted in an array of shape (num_epochs,1).\n",
    "               third position, validation accuracy of each epoch formatted in an array of shape (num_epochs,1).\n",
    "               \n",
    "    \"\"\"\n",
    "    #initialize variables\n",
    "    accuracy = np.zeros((num_epochs, 1))\n",
    "    loss_np = np.zeros((num_epochs,1))\n",
    "    val_accuracy = np.zeros((num_epochs, 1))\n",
    "    iter_num = 0\n",
    "    \n",
    "    ########################## TRAINING SET ########################## \n",
    "    for epoch in range(num_epochs):\n",
    "        training_loss = []\n",
    "        correct = 0\n",
    "        total = 0\n",
    "        neural_network.train()\n",
    "        for i, data in enumerate(train_loader,0):\n",
    "            #get the inputs\n",
    "            inputs, labels = data\n",
    "            \n",
    "            # zero the parameter gradients\n",
    "            optimizer.zero_grad()\n",
    "             \n",
    "            # forward + backward + optimize\n",
    "            outputs = neural_network(inputs)\n",
    "            loss = loss_function(outputs, labels)\n",
    "            loss.backward()\n",
    "            optimizer.step()\n",
    "            \n",
    "            training_loss.append(loss.item())\n",
    "            _, pred = torch.max(outputs.data, 1)\n",
    "            total += labels.size(0)\n",
    "            correct += (pred == labels).sum().item()\n",
    "            \n",
    "        #calculate the accuracy rate for each epoch    \n",
    "        accuracy[iter_num] =  correct/total\n",
    "        loss_np[iter_num] = np.mean(training_loss)\n",
    "\n",
    "        \n",
    "        ########################## EVALUATION SET ########################## \n",
    "        #re-initialize 'correct'\n",
    "        correct = 0\n",
    "        total = 0\n",
    "        neural_network.eval()\n",
    "        for i, data in enumerate(validation_loader,0):\n",
    "            #get the inputs\n",
    "            inputs, labels = data\n",
    "            \n",
    "            # forward + backward + optimize\n",
    "            outputs = neural_network(inputs)\n",
    "            _, pred = torch.max(outputs.data, 1)\n",
    "            total += labels.size(0)\n",
    "            correct += (pred == labels).sum().item()\n",
    "        val_accuracy[iter_num] = correct/total\n",
    "        \n",
    "        iter_num +=1\n",
    "        \n",
    "  \n",
    "    return accuracy,loss_np,val_accuracy\n"
   ]
  },
  {
   "cell_type": "code",
   "execution_count": 196,
   "metadata": {
    "colab": {},
    "colab_type": "code",
    "id": "RLlMhNt7vQxR"
   },
   "outputs": [],
   "source": [
    "def test_NN(neural_network, test_loader):\n",
    "  \n",
    "    \"\"\"\n",
    "    Runs experiment on the model neural network given a test loader, loss function and optimizer.\n",
    "\n",
    "    Args:\n",
    "        neural_network (NN model that extends torch.nn.Module): For example, it should take an instance of either\n",
    "                                                                FeedForwardNN or ConvolutionalNN,\n",
    "        test_loader (DataLoader), (make sure the loader is not shuffled)\n",
    "        loss_function (torch.nn.CrossEntropyLoss),\n",
    "        optimizer (your choice)\n",
    "        num_epochs (number of iterations)\n",
    "    Returns:\n",
    "        your predictions         \n",
    "    \"\"\"\n",
    "    \n",
    "    neural_network.eval()\n",
    "    Preds = torch.LongTensor()\n",
    "\n",
    "    for _, data in enumerate(test_loader):\n",
    "        data = data[0]\n",
    "        outputs = neural_network(data)\n",
    "#         pred,_ = torch.max(outputs.data, 1)\n",
    "        _,pred = torch.max(outputs.data, 1)\n",
    "#         _,pred= outputs.data.max(1, keepdim = True)\n",
    "        Preds = torch.cat((Preds, pred), dim = 0)\n",
    "  \n",
    "    return Preds"
   ]
  },
  {
   "cell_type": "code",
   "execution_count": 197,
   "metadata": {},
   "outputs": [],
   "source": [
    "model = OptimizedNN()\n",
    "test = np.load('data/images_test.npy')\n",
    "test = torch.tensor(test, dtype = torch.float32)\n",
    "test = torch.utils.data.TensorDataset(test)\n",
    "\n",
    "test_loader = DataLoader(test, batch_size = 32)\n",
    "# print(test_loader)\n",
    "Preds = test_NN(model, test_loader)"
   ]
  },
  {
   "cell_type": "code",
   "execution_count": 198,
   "metadata": {},
   "outputs": [],
   "source": [
    "# with open('HW4_preds.txt','w', encoding = 'utf8') as file:\n",
    "#     for i in range(len(test_loader.dataset)):\n",
    "#         file.write(str(Preds[i].item())+'\\n')"
   ]
  },
  {
   "cell_type": "code",
   "execution_count": 13,
   "metadata": {
    "colab": {},
    "colab_type": "code",
    "id": "lDQrfJXSv9iY"
   },
   "outputs": [
    {
     "name": "stdout",
     "output_type": "stream",
     "text": [
      "[[0.4       ]\n",
      " [0.41153846]\n",
      " [0.41538462]\n",
      " [0.425     ]\n",
      " [0.43653846]\n",
      " [0.43461538]\n",
      " [0.44615385]\n",
      " [0.44615385]\n",
      " [0.45192308]\n",
      " [0.45192308]\n",
      " [0.46153846]\n",
      " [0.46153846]\n",
      " [0.46153846]\n",
      " [0.46153846]\n",
      " [0.46153846]\n",
      " [0.46730769]\n",
      " [0.46923077]\n",
      " [0.46923077]\n",
      " [0.47115385]\n",
      " [0.47115385]\n",
      " [0.47307692]\n",
      " [0.475     ]\n",
      " [0.47115385]\n",
      " [0.47307692]\n",
      " [0.475     ]\n",
      " [0.475     ]\n",
      " [0.47692308]\n",
      " [0.47692308]\n",
      " [0.47884615]\n",
      " [0.48076923]\n",
      " [0.48846154]\n",
      " [0.49423077]\n",
      " [0.49807692]\n",
      " [0.49230769]\n",
      " [0.49423077]\n",
      " [0.49423077]\n",
      " [0.5       ]\n",
      " [0.5       ]\n",
      " [0.49807692]\n",
      " [0.5       ]]\n"
     ]
    }
   ],
   "source": [
    "# Run Baseline FeedForward\n",
    "# images, labels = extract_data('data/images_train.npy','data/labels_train.npy')\n",
    "# x_train, y_train, x_val, y_val = create_validation(images, labels)\n",
    "# train_set = torch.utils.data.TensorDataset(x_train, y_train)\n",
    "# val_set = torch.utils.data.TensorDataset(x_val, y_val)\n",
    "# train_loader = DataLoader(train_set, batch_size = 64)\n",
    "# validation_loader = DataLoader(val_set, batch_size = 64)\n",
    "\n",
    "# num_epochs = 40\n",
    "# ff_nn= FeedForwardNN()\n",
    "# criterion = nn.CrossEntropyLoss()\n",
    "# optimizer = optim.Adagrad(ff_nn.parameters(), lr = 0.001)\n",
    "\n",
    "# accuracy1,loss_np1,val_accuracy1 = train_val_NN(ff_nn, train_loader, validation_loader, criterion, optimizer,num_epochs)\n",
    "# print(val_accuracy1)\n"
   ]
  },
  {
   "cell_type": "code",
   "execution_count": 63,
   "metadata": {},
   "outputs": [
    {
     "data": {
      "image/png": "[encoded data removed]",
      "text/plain": [
       "<Figure size 432x288 with 1 Axes>"
      ]
     },
     "metadata": {
      "needs_background": "light"
     },
     "output_type": "display_data"
    }
   ],
   "source": [
    "# accuracy_lst = [accuracy1[i].tolist()[0] for i in range(len(accuracy1))]\n",
    "# loss_lst = [loss_np1[i].tolist()[0] for i in range(len(loss_np1))]\n",
    "# epochs = [i+1 for i in range(num_epochs)]\n",
    "# p1, ax = plt.subplots(1)\n",
    "# # ax.set_ylim(bottom = 0)\n",
    "# ax.plot(epochs, accuracy_lst, marker = 'o')\n",
    "# ax.plot(epochs, loss_lst, 'r', marker = 's')\n",
    "# plt.show(p1)\n"
   ]
  },
  {
   "cell_type": "code",
   "execution_count": 15,
   "metadata": {
    "colab": {},
    "colab_type": "code",
    "id": "DK0rXwRdv-PC"
   },
   "outputs": [
    {
     "name": "stdout",
     "output_type": "stream",
     "text": [
      "[[0.39230769]\n",
      " [0.39615385]\n",
      " [0.41346154]\n",
      " [0.44807692]\n",
      " [0.45961538]\n",
      " [0.48269231]\n",
      " [0.49807692]\n",
      " [0.51153846]\n",
      " [0.52307692]\n",
      " [0.52884615]\n",
      " [0.53461538]\n",
      " [0.54038462]\n",
      " [0.54423077]\n",
      " [0.54423077]\n",
      " [0.54423077]\n",
      " [0.55384615]\n",
      " [0.55769231]\n",
      " [0.55961538]\n",
      " [0.56153846]\n",
      " [0.56153846]\n",
      " [0.56346154]\n",
      " [0.56346154]\n",
      " [0.56346154]\n",
      " [0.56346154]\n",
      " [0.56923077]\n",
      " [0.57115385]\n",
      " [0.575     ]\n",
      " [0.58076923]\n",
      " [0.58076923]\n",
      " [0.58269231]\n",
      " [0.58269231]\n",
      " [0.58846154]\n",
      " [0.59038462]\n",
      " [0.59423077]\n",
      " [0.59615385]\n",
      " [0.59423077]\n",
      " [0.59423077]\n",
      " [0.59807692]\n",
      " [0.6       ]\n",
      " [0.6       ]]\n"
     ]
    }
   ],
   "source": [
    "# Run Baseline CNN\n",
    "# images, labels = extract_data('data/images_train.npy','data/labels_train.npy')\n",
    "# x_train, y_train, x_val, y_val = create_validation(images, labels)\n",
    "# train_set = torch.utils.data.TensorDataset(x_train, y_train)\n",
    "# val_set = torch.utils.data.TensorDataset(x_val, y_val)\n",
    "# train_loader = DataLoader(train_set, batch_size = 64)\n",
    "# validation_loader = DataLoader(val_set, batch_size = 64)\n",
    "\n",
    "# num_epochs = 40\n",
    "# cnn= ConvolutionalNN()\n",
    "# criterion = nn.CrossEntropyLoss()\n",
    "# optimizer = optim.Adagrad(cnn.parameters(), lr = 0.001)\n",
    "\n",
    "# accuracy2,loss_np2,val_accuracy2 = train_val_NN(cnn, train_loader, validation_loader, criterion, optimizer,num_epochs)\n",
    "# print(val_accuracy2)"
   ]
  },
  {
   "cell_type": "code",
   "execution_count": 62,
   "metadata": {},
   "outputs": [
    {
     "data": {
      "image/png": "[encoded data removed]",
      "text/plain": [
       "<Figure size 432x288 with 1 Axes>"
      ]
     },
     "metadata": {
      "needs_background": "light"
     },
     "output_type": "display_data"
    }
   ],
   "source": [
    "# accuracy_lst2 = [accuracy2[i].tolist()[0] for i in range(len(accuracy2))]\n",
    "# loss_lst2 = [loss_np2[i].tolist()[0] for i in range(len(loss_np2))]\n",
    "# epochs = [i+1 for i in range(num_epochs)]\n",
    "# p2, ax = plt.subplots(1)\n",
    "# ax.plot(epochs, accuracy_lst2, marker = 'o')\n",
    "# ax.plot(epochs, loss_lst2, 'r', marker = 's')\n",
    "# plt.show(p2)"
   ]
  },
  {
   "cell_type": "code",
   "execution_count": 25,
   "metadata": {
    "colab": {},
    "colab_type": "code",
    "id": "gojhzqhrwAxk"
   },
   "outputs": [
    {
     "name": "stdout",
     "output_type": "stream",
     "text": [
      "[[0.39807692]\n",
      " [0.40576923]\n",
      " [0.41346154]\n",
      " [0.42115385]\n",
      " [0.41923077]\n",
      " [0.42692308]\n",
      " [0.44615385]\n",
      " [0.45769231]\n",
      " [0.48269231]\n",
      " [0.48653846]\n",
      " [0.49807692]\n",
      " [0.51153846]\n",
      " [0.51153846]\n",
      " [0.52692308]\n",
      " [0.53076923]\n",
      " [0.52884615]\n",
      " [0.53269231]\n",
      " [0.54038462]\n",
      " [0.54615385]\n",
      " [0.54807692]\n",
      " [0.55      ]\n",
      " [0.55192308]\n",
      " [0.55384615]\n",
      " [0.55576923]\n",
      " [0.56153846]\n",
      " [0.56153846]\n",
      " [0.56538462]\n",
      " [0.56923077]\n",
      " [0.575     ]\n",
      " [0.57884615]\n",
      " [0.58076923]\n",
      " [0.58269231]\n",
      " [0.57884615]\n",
      " [0.58076923]\n",
      " [0.57884615]\n",
      " [0.58076923]\n",
      " [0.57884615]\n",
      " [0.58076923]\n",
      " [0.58653846]\n",
      " [0.58653846]]\n"
     ]
    }
   ],
   "source": [
    "# Run Baseline CNN on Normilized Images\n",
    "# images, labels = extract_data('data/images_train.npy','data/labels_train.npy')\n",
    "# x_train, y_train, x_val, y_val = create_validation(images, labels)\n",
    "# train_set = torch.utils.data.TensorDataset(x_train, y_train)\n",
    "# val_set = torch.utils.data.TensorDataset(x_val, y_val)\n",
    "# train_loader = DataLoader(train_set, batch_size = 64)\n",
    "# validation_loader = DataLoader(val_set, batch_size = 64)\n",
    "\n",
    "# num_epochs = 40\n",
    "# cnn= ConvolutionalNN()\n",
    "# criterion = nn.CrossEntropyLoss()\n",
    "# optimizer = optim.Adagrad(cnn.parameters(), lr = 0.001)\n",
    "\n",
    "# accuracy3,loss_np3,val_accuracy3 = train_val_NN(cnn, train_loader, validation_loader, criterion, optimizer,num_epochs)\n",
    "# print(val_accuracy3)\n"
   ]
  },
  {
   "cell_type": "code",
   "execution_count": 26,
   "metadata": {},
   "outputs": [
    {
     "data": {
      "image/png": "[encoded data removed]",
      "text/plain": [
       "<Figure size 432x288 with 1 Axes>"
      ]
     },
     "metadata": {
      "needs_background": "light"
     },
     "output_type": "display_data"
    }
   ],
   "source": [
    "# accuracy_lst3 = [accuracy3[i].tolist()[0] for i in range(len(accuracy3))]\n",
    "# loss_lst3 = [loss_np3[i].tolist()[0] for i in range(len(loss_np3))]\n",
    "# epochs = [i+1 for i in range(num_epochs)]\n",
    "# p3, ax = plot.subplots(1)\n",
    "# ax.plot(epochs, accuracy_lst3, marker = 'o')\n",
    "# ax.plot(epochs, loss_lst3, 'r', marker = 's')\n",
    "# plt.show(p3)"
   ]
  },
  {
   "cell_type": "code",
   "execution_count": 189,
   "metadata": {
    "colab": {},
    "colab_type": "code",
    "id": "Ioni3nPfwEIE"
   },
   "outputs": [],
   "source": [
    "# Choose from one of the above models and improve its performance\n",
    "# Run Baseline CNN\n",
    "# images, labels = extract_data('data/images_train.npy','data/labels_train.npy')\n",
    "# x_train, y_train, x_val, y_val = create_validation(images, labels)\n",
    "# train_set = torch.utils.data.TensorDataset(x_train, y_train)\n",
    "# val_set = torch.utils.data.TensorDataset(x_val, y_val)\n",
    "# train_loader = DataLoader(train_set, batch_size = 64)\n",
    "# validation_loader = DataLoader(val_set, batch_size = 64)\n",
    "\n",
    "# num_epochs = 40\n",
    "# o_cnn= OptimizedNN()\n",
    "# criterion = nn.CrossEntropyLoss()\n",
    "# optimizer = optim.Adam(o_cnn.parameters(), lr = 0.001)\n",
    "\n",
    "# accuracy4,loss_np4,val_accuracy4 = train_val_NN(o_cnn, train_loader, validation_loader, criterion, optimizer,num_epochs)\n",
    "# print(val_accuracy4)"
   ]
  },
  {
   "cell_type": "code",
   "execution_count": 60,
   "metadata": {},
   "outputs": [
    {
     "ename": "NameError",
     "evalue": "name 'plot' is not defined",
     "output_type": "error",
     "traceback": [
      "\u001b[0;31m---------------------------------------------------------------------------\u001b[0m",
      "\u001b[0;31mNameError\u001b[0m                                 Traceback (most recent call last)",
      "\u001b[0;32m<ipython-input-60-d7081c1eeaa9>\u001b[0m in \u001b[0;36m<module>\u001b[0;34m\u001b[0m\n\u001b[1;32m      2\u001b[0m \u001b[0mloss_lst4\u001b[0m \u001b[0;34m=\u001b[0m \u001b[0;34m[\u001b[0m\u001b[0mloss_np4\u001b[0m\u001b[0;34m[\u001b[0m\u001b[0mi\u001b[0m\u001b[0;34m]\u001b[0m\u001b[0;34m.\u001b[0m\u001b[0mtolist\u001b[0m\u001b[0;34m(\u001b[0m\u001b[0;34m)\u001b[0m\u001b[0;34m[\u001b[0m\u001b[0;36m0\u001b[0m\u001b[0;34m]\u001b[0m \u001b[0;32mfor\u001b[0m \u001b[0mi\u001b[0m \u001b[0;32min\u001b[0m \u001b[0mrange\u001b[0m\u001b[0;34m(\u001b[0m\u001b[0mlen\u001b[0m\u001b[0;34m(\u001b[0m\u001b[0mloss_np4\u001b[0m\u001b[0;34m)\u001b[0m\u001b[0;34m)\u001b[0m\u001b[0;34m]\u001b[0m\u001b[0;34m\u001b[0m\u001b[0;34m\u001b[0m\u001b[0m\n\u001b[1;32m      3\u001b[0m \u001b[0mepochs\u001b[0m \u001b[0;34m=\u001b[0m \u001b[0;34m[\u001b[0m\u001b[0mi\u001b[0m\u001b[0;34m+\u001b[0m\u001b[0;36m1\u001b[0m \u001b[0;32mfor\u001b[0m \u001b[0mi\u001b[0m \u001b[0;32min\u001b[0m \u001b[0mrange\u001b[0m\u001b[0;34m(\u001b[0m\u001b[0mnum_epochs\u001b[0m\u001b[0;34m)\u001b[0m\u001b[0;34m]\u001b[0m\u001b[0;34m\u001b[0m\u001b[0;34m\u001b[0m\u001b[0m\n\u001b[0;32m----> 4\u001b[0;31m \u001b[0mp4\u001b[0m\u001b[0;34m,\u001b[0m \u001b[0max\u001b[0m \u001b[0;34m=\u001b[0m \u001b[0mplot\u001b[0m\u001b[0;34m.\u001b[0m\u001b[0msubplots\u001b[0m\u001b[0;34m(\u001b[0m\u001b[0;36m1\u001b[0m\u001b[0;34m)\u001b[0m\u001b[0;34m\u001b[0m\u001b[0;34m\u001b[0m\u001b[0m\n\u001b[0m\u001b[1;32m      5\u001b[0m \u001b[0;31m# ax.set_ylim(bottom = 0)\u001b[0m\u001b[0;34m\u001b[0m\u001b[0;34m\u001b[0m\u001b[0;34m\u001b[0m\u001b[0m\n\u001b[1;32m      6\u001b[0m \u001b[0max\u001b[0m\u001b[0;34m.\u001b[0m\u001b[0mplot\u001b[0m\u001b[0;34m(\u001b[0m\u001b[0mepochs\u001b[0m\u001b[0;34m,\u001b[0m \u001b[0maccuracy_lst4\u001b[0m\u001b[0;34m,\u001b[0m \u001b[0mmarker\u001b[0m \u001b[0;34m=\u001b[0m \u001b[0;34m'o'\u001b[0m\u001b[0;34m)\u001b[0m\u001b[0;34m\u001b[0m\u001b[0;34m\u001b[0m\u001b[0m\n",
      "\u001b[0;31mNameError\u001b[0m: name 'plot' is not defined"
     ]
    }
   ],
   "source": [
    "# accuracy_lst4 = [accuracy4[i].tolist()[0] for i in range(len(accuracy4))]\n",
    "# loss_lst4 = [loss_np4[i].tolist()[0] for i in range(len(loss_np4))]\n",
    "# epochs = [i+1 for i in range(num_epochs)]\n",
    "# p4, ax = plot.subplots(1)\n",
    "# # ax.set_ylim(bottom = 0)\n",
    "# ax.plot(epochs, accuracy_lst4, marker = 'o')\n",
    "# ax.plot(epochs, loss_lst4, 'r', marker = 's')\n",
    "# plt.show(p4)"
   ]
  },
  {
   "cell_type": "code",
   "execution_count": 56,
   "metadata": {
    "scrolled": true
   },
   "outputs": [
    {
     "data": {
      "text/plain": [
       "array([[0.34807692],\n",
       "       [0.42115385],\n",
       "       [0.50192308],\n",
       "       [0.54615385],\n",
       "       [0.54807692],\n",
       "       [0.59615385],\n",
       "       [0.62115385],\n",
       "       [0.62307692],\n",
       "       [0.61538462],\n",
       "       [0.63653846],\n",
       "       [0.64423077],\n",
       "       [0.66538462],\n",
       "       [0.66538462],\n",
       "       [0.66730769],\n",
       "       [0.67692308],\n",
       "       [0.69807692],\n",
       "       [0.68269231],\n",
       "       [0.72115385],\n",
       "       [0.71730769],\n",
       "       [0.72884615],\n",
       "       [0.72307692],\n",
       "       [0.72884615],\n",
       "       [0.75384615],\n",
       "       [0.725     ],\n",
       "       [0.73653846],\n",
       "       [0.72692308],\n",
       "       [0.73653846],\n",
       "       [0.77115385],\n",
       "       [0.775     ],\n",
       "       [0.77115385],\n",
       "       [0.78076923],\n",
       "       [0.77692308],\n",
       "       [0.78076923],\n",
       "       [0.78076923],\n",
       "       [0.77884615],\n",
       "       [0.79423077],\n",
       "       [0.78076923],\n",
       "       [0.77884615],\n",
       "       [0.79807692],\n",
       "       [0.8       ]])"
      ]
     },
     "execution_count": 56,
     "metadata": {},
     "output_type": "execute_result"
    }
   ],
   "source": [
    "# val_accuracy4"
   ]
  },
  {
   "cell_type": "code",
   "execution_count": 59,
   "metadata": {},
   "outputs": [
    {
     "data": {
      "text/plain": [
       "array([0.8])"
      ]
     },
     "execution_count": 59,
     "metadata": {},
     "output_type": "execute_result"
    }
   ],
   "source": [
    "# val_accuracy4[-1]"
   ]
  },
  {
   "cell_type": "code",
   "execution_count": null,
   "metadata": {},
   "outputs": [],
   "source": []
  }
 ],
 "metadata": {
  "colab": {
   "collapsed_sections": [],
   "name": "HW4.ipynb",
   "provenance": [],
   "version": "0.3.2"
  },
  "kernelspec": {
   "display_name": "Python 3",
   "language": "python",
   "name": "python3"
  },
  "language_info": {
   "codemirror_mode": {
    "name": "ipython",
    "version": 3
   },
   "file_extension": ".py",
   "mimetype": "text/x-python",
   "name": "python",
   "nbconvert_exporter": "python",
   "pygments_lexer": "ipython3",
   "version": "3.7.1"
  }
 },
 "nbformat": 4,
 "nbformat_minor": 1
}
